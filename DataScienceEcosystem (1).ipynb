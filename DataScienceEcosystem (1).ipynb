{
  "nbformat": 4,
  "nbformat_minor": 0,
  "metadata": {
    "colab": {
      "provenance": []
    },
    "kernelspec": {
      "name": "python3",
      "display_name": "Python 3"
    },
    "language_info": {
      "name": "python"
    }
  },
  "cells": [
    {
      "cell_type": "markdown",
      "source": [
        "# Data Science Tools and Ecosystem"
      ],
      "metadata": {
        "id": "Igi2xArpqGqp"
      }
    },
    {
      "cell_type": "markdown",
      "source": [
        "## In this notebook, Data Science Tools and Ecosystem are summarized."
      ],
      "metadata": {
        "id": "RyAW7zeBqMZu"
      }
    },
    {
      "cell_type": "markdown",
      "source": [
        "*Some of the popular languages that Data Scientists use are:*\n",
        "1.   Python\n",
        "2.   R\n",
        "3. Java\n",
        "\n",
        "\n",
        "\n"
      ],
      "metadata": {
        "id": "ERmRRGnfq9Jj"
      }
    },
    {
      "cell_type": "markdown",
      "source": [
        "Some of the commonly used libraries used by Data Scientists include:\n",
        "* Pandas\n",
        "* Numpy\n",
        "* Scikit-lear"
      ],
      "metadata": {
        "id": "o9JH45XxrthT"
      }
    },
    {
      "cell_type": "markdown",
      "source": [
        "| Data Science Tools |\n",
        "| --- |\n",
        "| Apache Spark |\n",
        "| Python |\n",
        "| Tensorflow |"
      ],
      "metadata": {
        "id": "AExDsLqKupDH"
      }
    },
    {
      "cell_type": "markdown",
      "source": [
        "### Below are a few examples of evaluating arithmetic expressions in Python"
      ],
      "metadata": {
        "id": "VetPK2Xor_Z9"
      }
    },
    {
      "cell_type": "code",
      "execution_count": 2,
      "metadata": {
        "colab": {
          "base_uri": "https://localhost:8080/"
        },
        "id": "98g9RN1DqCgj",
        "outputId": "901217f0-e8a5-41ea-a1b5-b346b6c8ae62"
      },
      "outputs": [
        {
          "output_type": "stream",
          "name": "stdout",
          "text": [
            "17\n"
          ]
        }
      ],
      "source": [
        "# This a simple arithmetic expression to mutiply then add integers\n",
        "a = (3*4)+5\n",
        "print(a)"
      ]
    },
    {
      "cell_type": "code",
      "source": [
        "# This will convert 200 minutes to hours by diving by 60\n",
        "minutes = 200\n",
        "hours = minutes/60\n",
        "print(hours)"
      ],
      "metadata": {
        "colab": {
          "base_uri": "https://localhost:8080/"
        },
        "id": "DU54BjAZsWUc",
        "outputId": "8be572d4-e705-4d9e-dd29-2a76df6eddf3"
      },
      "execution_count": 4,
      "outputs": [
        {
          "output_type": "stream",
          "name": "stdout",
          "text": [
            "3.3333333333333335\n"
          ]
        }
      ]
    },
    {
      "cell_type": "markdown",
      "source": [
        "**Objectives: List popular languages for Data Science**\n",
        "* Python\n",
        "* R\n",
        "* Java"
      ],
      "metadata": {
        "id": "kUlxqWb1sxP3"
      }
    },
    {
      "cell_type": "markdown",
      "source": [
        "## Author"
      ],
      "metadata": {
        "id": "aBHaCLvxs-da"
      }
    },
    {
      "cell_type": "code",
      "source": [],
      "metadata": {
        "id": "OW0omElLsiMn"
      },
      "execution_count": null,
      "outputs": []
    }
  ]
}